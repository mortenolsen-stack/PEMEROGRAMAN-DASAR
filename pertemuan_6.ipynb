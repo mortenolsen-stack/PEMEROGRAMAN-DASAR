{
  "nbformat": 4,
  "nbformat_minor": 0,
  "metadata": {
    "colab": {
      "provenance": [],
      "authorship_tag": "ABX9TyMivpex3saehWAKp815GUlJ",
      "include_colab_link": true
    },
    "kernelspec": {
      "name": "python3",
      "display_name": "Python 3"
    },
    "language_info": {
      "name": "python"
    }
  },
  "cells": [
    {
      "cell_type": "markdown",
      "metadata": {
        "id": "view-in-github",
        "colab_type": "text"
      },
      "source": [
        "<a href=\"https://colab.research.google.com/github/mortenolsen-stack/PEMEROGRAMAN-DASAR/blob/main/pertemuan_6.ipynb\" target=\"_parent\"><img src=\"https://colab.research.google.com/assets/colab-badge.svg\" alt=\"Open In Colab\"/></a>"
      ]
    },
    {
      "cell_type": "code",
      "source": [
        "# SOAL 1: Fungsi Inisialisasi Sederhana\n",
        "def sapa_praktikan():\n",
        "    \"\"\"Mencetak pesan sambutan dasar dengan biodata.\"\"\"\n",
        "    print(\"Sistem siap. Selamat datang kembali di sesi praktikum.\")\n",
        "    print(\"Nama: Morten\")\n",
        "    print(\"Tempat tinggal: Bengkong\")\n",
        "    print(\"Jurusan: Elektro\")\n",
        "    print(\"NIM: 4232411040\")\n",
        "\n",
        "# Pemanggilan:\n",
        "sapa_praktikan()"
      ],
      "metadata": {
        "colab": {
          "base_uri": "https://localhost:8080/"
        },
        "id": "BtUcbUwyDT0x",
        "outputId": "2a9846ac-3f79-43ae-939f-24d785cf8bde"
      },
      "execution_count": 5,
      "outputs": [
        {
          "output_type": "stream",
          "name": "stdout",
          "text": [
            "Sistem siap. Selamat datang kembali di sesi praktikum.\n",
            "Nama: Morten\n",
            "Tempat tinggal: Bengkong\n",
            "Jurusan: Elektro\n",
            "NIM: 4232411040\n"
          ]
        }
      ]
    },
    {
      "cell_type": "code",
      "source": [
        "# SOAL 2: Menghitung Volume Balok\n",
        "def hitung_volume_balok(panjang, lebar, tinggi):\n",
        "    \"\"\"Menghitung volume balok dari panjang, lebar, dan tingginya.\"\"\"\n",
        "    return panjang * lebar * tinggi\n",
        "\n",
        "# Pemanggilan:\n",
        "panjang = 5\n",
        "lebar = 3\n",
        "tinggi = 4\n",
        "print(f\"Volume balok dengan panjang {panjang}, lebar {lebar}, dan tinggi {tinggi} adalah: {hitung_volume_balok(panjang, lebar, tinggi)}\")"
      ],
      "metadata": {
        "colab": {
          "base_uri": "https://localhost:8080/"
        },
        "id": "tUw35gJeEGfd",
        "outputId": "4784dd99-d936-4fd3-9339-95555e5ffd93"
      },
      "execution_count": 7,
      "outputs": [
        {
          "output_type": "stream",
          "name": "stdout",
          "text": [
            "Volume balok dengan panjang 5, lebar 3, dan tinggi 4 adalah: 60\n"
          ]
        }
      ]
    },
    {
      "cell_type": "code",
      "source": [
        "# SOAL 3: Menghitung Rata-rata dari List Nilai\n",
        "def hitung_rata_rata(data_nilai):\n",
        "    \"\"\"\n",
        "    Menghitung rata-rata dari list angka menggunakan perulangan for.\n",
        "    Mengabaikan nilai di bawah 0 atau di atas 100.\n",
        "    \"\"\"\n",
        "    total = 0\n",
        "    jumlah_nilai_valid = 0\n",
        "\n",
        "    # Perulangan untuk menjumlahkan nilai\n",
        "    for nilai in data_nilai:\n",
        "        # Pengecekan nilai di dalam rentang 0-100\n",
        "        if 0 <= nilai <= 100:\n",
        "            total += nilai\n",
        "            jumlah_nilai_valid += 1\n",
        "\n",
        "\n",
        "    # Pembagian untuk rata-rata\n",
        "    if jumlah_nilai_valid > 0:\n",
        "        return total / jumlah_nilai_valid\n",
        "    return 0\n",
        "\n",
        "# Pemanggilan:\n",
        "nilai_praktikan = [85, 78, 92, 65, 90, -5, 110] # Tambahkan nilai di luar rentang untuk pengujian\n",
        "print(f\"Nilai rata-rata kelas adalah: {hitung_rata_rata(nilai_praktikan)}\")"
      ],
      "metadata": {
        "colab": {
          "base_uri": "https://localhost:8080/"
        },
        "id": "brsOA4a7EXoi",
        "outputId": "bf974988-d90c-4db8-aa98-9cb730bd5af5"
      },
      "execution_count": 9,
      "outputs": [
        {
          "output_type": "stream",
          "name": "stdout",
          "text": [
            "Nilai rata-rata kelas adalah: 82.0\n"
          ]
        }
      ]
    },
    {
      "cell_type": "code",
      "source": [
        "# SOAL 4: Sistem Penentuan Predikat Nilai\n",
        "def tentukan_predikat(skor):\n",
        "    \"\"\"Menentukan predikat (A, B, C, D, E) berdasarkan skor dengan pengecekan tipe data.\"\"\"\n",
        "    # Pengecekan tipe data\n",
        "    if not isinstance(skor, (int, float)):\n",
        "        return \"Input harus berupa angka (integer atau float).\"\n",
        "\n",
        "    if skor >= 85:\n",
        "        return \"A\"\n",
        "    elif skor >= 70:\n",
        "        return \"B\"\n",
        "    elif skor >= 60:\n",
        "        return \"C\"\n",
        "    elif skor >= 50:\n",
        "        return \"D\"\n",
        "    else:\n",
        "        return \"E\"\n",
        "\n",
        "# Pemanggilan:\n",
        "print(f\"Skor 75 mendapat predikat: {tentukan_predikat(75)}\")\n",
        "print(f\"Skor 48 mendapat predikat: {tentukan_predikat(48)}\")\n",
        "print(f\"Input 'sembilan puluh' mendapat predikat: {tentukan_predikat('sembilan puluh')}\") # Contoh input non-numerik"
      ],
      "metadata": {
        "colab": {
          "base_uri": "https://localhost:8080/"
        },
        "id": "NbfSrxpmEp9Q",
        "outputId": "92609965-2257-4255-e191-e0d0b5ca067c"
      },
      "execution_count": 11,
      "outputs": [
        {
          "output_type": "stream",
          "name": "stdout",
          "text": [
            "Skor 75 mendapat predikat: B\n",
            "Skor 48 mendapat predikat: E\n",
            "Input 'sembilan puluh' mendapat predikat: Input harus berupa angka (integer atau float).\n"
          ]
        }
      ]
    },
    {
      "cell_type": "code",
      "source": [
        "# SOAL 5: Menghitung Faktorial dengan Loop While\n",
        "def hitung_faktorial(n):\n",
        "    \"\"\"Menghitung faktorial dari bilangan non-negatif n.\"\"\"\n",
        "    if n < 0:\n",
        "        return \"Faktorial tidak terdefinisi untuk bilangan negatif\"\n",
        "    elif n == 0:\n",
        "        return 1\n",
        "    else:\n",
        "        hasil = 1\n",
        "        # Perulangan berjalan selama n lebih besar dari 1\n",
        "        while n > 1:\n",
        "            hasil *= n\n",
        "            n -= 1  # Kurangi n\n",
        "        return hasil\n",
        "\n",
        "# Pemanggilan:\n",
        "bilangan_n = 4\n",
        "print(f\"Faktorial dari {bilangan_n} adalah: {hitung_faktorial(bilangan_n)}\")  # Output: 24\n",
        "print(f\"Faktorial dari 0 adalah: {hitung_faktorial(0)}\") # Output: 1\n",
        "print(f\"Faktorial dari -5 adalah: {hitung_faktorial(-5)}\") # Output: Faktorial tidak terdefinisi untuk bilangan negatif"
      ],
      "metadata": {
        "colab": {
          "base_uri": "https://localhost:8080/"
        },
        "id": "I4NP3xa_E_BJ",
        "outputId": "72241510-c06f-49bf-d9b0-1a719b5bfe5a"
      },
      "execution_count": 13,
      "outputs": [
        {
          "output_type": "stream",
          "name": "stdout",
          "text": [
            "Faktorial dari 4 adalah: 24\n",
            "Faktorial dari 0 adalah: 1\n",
            "Faktorial dari -5 adalah: Faktorial tidak terdefinisi untuk bilangan negatif\n"
          ]
        }
      ]
    },
    {
      "cell_type": "code",
      "source": [
        "# SOAL 6: Analisis Data Suhu Ekstrem (for dan if/elif)\n",
        "def analisis_suhu(data_suhu, batas_panas=35, batas_dingin=15):\n",
        "    \"\"\"Menghitung jumlah hari Panas dan Dingin dari data_suhu dengan batas opsional.\"\"\"\n",
        "    panas_count = 0\n",
        "    dingin_count = 0\n",
        "\n",
        "    for suhu in data_suhu:\n",
        "        if suhu >= batas_panas:\n",
        "            panas_count += 1\n",
        "        elif suhu <= batas_dingin:\n",
        "            dingin_count += 1\n",
        "\n",
        "    return panas_count, dingin_count\n",
        "\n",
        "# Pemanggilan:\n",
        "suhu_mingguan = [36, 30, 14, 25, 38, 16, 28]\n",
        "jumlah_panas, jumlah_dingin = analisis_suhu(suhu_mingguan)\n",
        "print(f\"Jumlah hari Panas (>=35°C): {jumlah_panas}\")\n",
        "print(f\"Jumlah hari Dingin (<=15°C): {jumlah_dingin}\")\n",
        "\n",
        "# Contoh pemanggilan dengan batas suhu yang berbeda\n",
        "jumlah_panas_beda, jumlah_dingin_beda = analisis_suhu(suhu_mingguan, batas_panas=30, batas_dingin=20)\n",
        "print(f\"\\nDengan batas Panas >=30°C dan Dingin <=20°C:\")\n",
        "print(f\"Jumlah hari Panas: {jumlah_panas_beda}\")\n",
        "print(f\"Jumlah hari Dingin: {jumlah_dingin_beda}\")"
      ],
      "metadata": {
        "colab": {
          "base_uri": "https://localhost:8080/"
        },
        "id": "lDWX-ZZ7FJyD",
        "outputId": "42e3e46b-a624-4d4a-d5a0-e2da809c66b1"
      },
      "execution_count": 15,
      "outputs": [
        {
          "output_type": "stream",
          "name": "stdout",
          "text": [
            "Jumlah hari Panas (>=35°C): 2\n",
            "Jumlah hari Dingin (<=15°C): 1\n",
            "\n",
            "Dengan batas Panas >=30°C dan Dingin <=20°C:\n",
            "Jumlah hari Panas: 3\n",
            "Jumlah hari Dingin: 2\n"
          ]
        }
      ]
    }
  ]
}