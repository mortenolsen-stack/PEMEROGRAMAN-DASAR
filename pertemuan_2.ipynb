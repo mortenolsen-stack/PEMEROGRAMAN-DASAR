{
  "nbformat": 4,
  "nbformat_minor": 0,
  "metadata": {
    "colab": {
      "provenance": [],
      "authorship_tag": "ABX9TyMdiUZUMGKkiFXLHcWWWEFS",
      "include_colab_link": true
    },
    "kernelspec": {
      "name": "python3",
      "display_name": "Python 3"
    },
    "language_info": {
      "name": "python"
    }
  },
  "cells": [
    {
      "cell_type": "markdown",
      "metadata": {
        "id": "view-in-github",
        "colab_type": "text"
      },
      "source": [
        "<a href=\"https://colab.research.google.com/github/mortenolsen-stack/PEMEROGRAMAN-DASAR/blob/main/pertemuan_2.ipynb\" target=\"_parent\"><img src=\"https://colab.research.google.com/assets/colab-badge.svg\" alt=\"Open In Colab\"/></a>"
      ]
    },
    {
      "cell_type": "code",
      "execution_count": null,
      "metadata": {
        "id": "0NWXbh6RMYdb",
        "colab": {
          "base_uri": "https://localhost:8080/"
        },
        "outputId": "f2a4d015-b8cc-424a-8a90-1b0aba6d48ab"
      },
      "outputs": [
        {
          "output_type": "stream",
          "name": "stdout",
          "text": [
            "23\n",
            "43\n",
            "15\n",
            "34\n",
            "[23, 43, 15, 34]\n"
          ]
        }
      ],
      "source": [
        "# deklarasi variabel list\n",
        "numbers = [23, 43, 15,34]\n",
        "# cara mengakses elemen dalam variabel list\n",
        "numbers[0] # 23\n",
        "numbers[1] # 43\n",
        "numbers[2] # 15\n",
        "numbers[3] # 34\n",
        "# cara mengubah nilai elemen dalam variabel list\n",
        "numbers[2] # 51\n",
        "numbers[2] # 51\n",
        "\n",
        "print (numbers[0]) #lakukan untuk setiap indexnya dan lihat halsilnya\n",
        "print (numbers[1])\n",
        "print (numbers[2])\n",
        "print (numbers[3])\n",
        "print (numbers)"
      ]
    },
    {
      "cell_type": "code",
      "source": [
        "# deklarai variabel list numbers\n",
        "numbers = [1, 2, 3]\n",
        "print (numbers)\n",
        "\n",
        "# menambahkan elemen di indeks ke -4\n",
        "numbers.insert(4,5)\n",
        "print (numbers)\n",
        "\n",
        "# mengubah elemen di indeks ke -4\n",
        "numbers[3]= 4   #[1, 2, 3, 4]\n",
        "print (numbers)\n",
        "\n",
        "# menghapus elemen di indeks ke -2\n",
        "numbers.pop(2)   #[1, 2, 4]\n",
        "print (numbers)\n",
        "\n",
        "# print lalu lihat hasilnya\n",
        "print (numbers)"
      ],
      "metadata": {
        "id": "qYTlmvXfdNBA",
        "colab": {
          "base_uri": "https://localhost:8080/"
        },
        "outputId": "f2dab17e-8480-4424-9dd8-c1809a9a0553"
      },
      "execution_count": 5,
      "outputs": [
        {
          "output_type": "stream",
          "name": "stdout",
          "text": [
            "[1, 2, 3]\n",
            "[1, 2, 3, 5]\n",
            "[1, 2, 3, 4]\n",
            "[1, 2, 4]\n",
            "[1, 2, 4]\n"
          ]
        }
      ]
    },
    {
      "cell_type": "code",
      "source": [
        "# deklarasi variabel list\n",
        "mylist = [1, \"Rumah\",4.5, True,[\"kamar mandi\", \"kamar tidur\"]]\n",
        "\n",
        "#cara mengakses elemen dalam variabel list\n",
        "mylist[0] # 1\n",
        "mylist[1] # \"Rumah\"\n",
        "mylist[3] # True\n",
        "mylist[4] # [\"kamar mandi\", \"kamar tidur\"]\n",
        "\n",
        "#cara mengakses elemen dalam sublist\n",
        "mylist[4][0] # \"kamar mandi\"\n",
        "mylist[4][1] # \"kamar tidur\"\n",
        "\n",
        "#lakukan print lalu amati hasilnya\n",
        "\n",
        "print(mylist[0])\n",
        "print(mylist[1])\n",
        "print(mylist[3])\n",
        "print(mylist[4])\n",
        "\n",
        "print(mylist[4][0])\n",
        "print(mylist[4][1])"
      ],
      "metadata": {
        "colab": {
          "base_uri": "https://localhost:8080/"
        },
        "id": "rMtaEtru7inz",
        "outputId": "f7d09d92-05e1-440a-831d-ce5ed6fd6b30"
      },
      "execution_count": 6,
      "outputs": [
        {
          "output_type": "stream",
          "name": "stdout",
          "text": [
            "1\n",
            "Rumah\n",
            "True\n",
            "['kamar mandi', 'kamar tidur']\n",
            "kamar mandi\n",
            "kamar tidur\n"
          ]
        }
      ]
    },
    {
      "cell_type": "code",
      "source": [
        "\n",
        "#Data Diri\n",
        "fristname = 'Morten Olsen'\n",
        "lastname = 'Manalu'\n",
        "age = 24\n",
        "ismerried = False\n",
        "\n",
        "print(fristname)\n",
        "\n",
        "print(lastname)\n",
        "\n",
        "print(age)\n",
        "\n",
        "print(ismerried)"
      ],
      "metadata": {
        "id": "X7QPPzkKqaS6",
        "colab": {
          "base_uri": "https://localhost:8080/"
        },
        "outputId": "ec0bdef7-4ad2-4b97-d487-79535cf7f082"
      },
      "execution_count": null,
      "outputs": [
        {
          "output_type": "stream",
          "name": "stdout",
          "text": [
            "Morten Olsen\n",
            "Manalu\n",
            "24\n",
            "False\n"
          ]
        }
      ]
    },
    {
      "cell_type": "code",
      "source": [
        "\n",
        "\n",
        "#Data Diri\n",
        "\n",
        "datadiri ={\n",
        "\"fristname\":\"Morten Olsen\",\n",
        "\"lastname\":\"Manalu\",\n",
        "\"age\": 24,\n",
        "\"ismerried\": False}\n",
        "\n",
        "print(datadiri)\n",
        "print(type(datadiri))\n",
        "print(datadiri[\"fristname\"])\n",
        "print(datadiri[\"lastname\"])\n",
        "print(datadiri[\"age\"])\n",
        "print(datadiri[\"ismerried\"])"
      ],
      "metadata": {
        "colab": {
          "base_uri": "https://localhost:8080/"
        },
        "id": "jMdjHZHhvdEr",
        "outputId": "2893ba1a-e91c-434e-ba8a-2ebb30910448"
      },
      "execution_count": null,
      "outputs": [
        {
          "output_type": "stream",
          "name": "stdout",
          "text": [
            "{'fristname': 'Morten Olsen', 'lastname': 'Manalu', 'age': 24, 'ismerried': False}\n",
            "<class 'dict'>\n",
            "Morten Olsen\n",
            "Manalu\n",
            "24\n",
            "False\n"
          ]
        }
      ]
    }
  ]
}